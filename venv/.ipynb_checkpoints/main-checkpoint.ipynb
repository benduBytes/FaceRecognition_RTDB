{
 "cells": [
  {
   "cell_type": "markdown",
   "id": "4e7f5d14-33b7-4a97-a949-9052b1652fbc",
   "metadata": {},
   "source": [
    "#WEB CAM"
   ]
  },
  {
   "cell_type": "code",
   "execution_count": 13,
   "id": "1d7862ba-7d2e-4cad-897b-255e55888cfe",
   "metadata": {},
   "outputs": [
    {
     "name": "stdout",
     "output_type": "stream",
     "text": [
      "Requirement already satisfied: opencv-python in c:\\users\\bened\\anaconda3\\lib\\site-packages (4.9.0.80)\n",
      "Requirement already satisfied: numpy>=1.21.2 in c:\\users\\bened\\anaconda3\\lib\\site-packages (from opencv-python) (1.26.4)\n",
      "Note: you may need to restart the kernel to use updated packages.\n"
     ]
    }
   ],
   "source": [
    "pip install opencv-python"
   ]
  },
  {
   "cell_type": "code",
   "execution_count": 14,
   "id": "510659d1-809b-4cf6-b7b1-b8afcfdc4dd2",
   "metadata": {},
   "outputs": [],
   "source": [
    "import cv2\n",
    "import os"
   ]
  },
  {
   "cell_type": "code",
   "execution_count": 15,
   "id": "7f71d4a2-b18b-4b37-b625-6723d6541399",
   "metadata": {},
   "outputs": [
    {
     "data": {
      "text/plain": [
       "True"
      ]
     },
     "execution_count": 15,
     "metadata": {},
     "output_type": "execute_result"
    }
   ],
   "source": [
    "cap = cv2.VideoCapture(0)\n",
    "cap.set(3,640)\n",
    "cap.set(4, 480)"
   ]
  },
  {
   "cell_type": "code",
   "execution_count": 16,
   "id": "4d71180d-4725-4b57-91ce-b7b62e627905",
   "metadata": {},
   "outputs": [],
   "source": [
    "imgBackground = cv2.imread('Resources/background.png')\n",
    "\n",
    "#importing the mode images into a list\n",
    "folderModePath = 'Resources/Modes'\n",
    "modePathList = os.listdir(folderModePath)\n",
    "imgModeList = []\n",
    "#print(modePathList)\n",
    "for path in modePathList:\n",
    "    imgModeList.append(cv2.imread(os.path.join(folderModePath,path)))\n",
    "\n",
    "#print(len(imgModeList))\n",
    "\n"
   ]
  },
  {
   "cell_type": "code",
   "execution_count": null,
   "id": "e97727fb-76d3-4ee8-aa6f-264528330953",
   "metadata": {
    "scrolled": true
   },
   "outputs": [],
   "source": [
    "while True:\n",
    "    success, img = cap.read()\n",
    "\n",
    "    imgBackground[162:162+480, 55:55+640] = img\n",
    "    imgBackground[44:44+633, 808:808+414] = imgModeList[0]\n",
    "    \n",
    "    #cv2.imshow(\"Webcam\", img)\n",
    "    cv2.imshow(\"Face Attendance\", imgBackground)\n",
    "    cv2.waitKey(1)"
   ]
  },
  {
   "cell_type": "code",
   "execution_count": null,
   "id": "3b7a4c6d-a1c4-4b93-b19d-027974655164",
   "metadata": {},
   "outputs": [],
   "source": []
  }
 ],
 "metadata": {
  "kernelspec": {
   "display_name": "Python 3 (ipykernel)",
   "language": "python",
   "name": "python3"
  },
  "language_info": {
   "codemirror_mode": {
    "name": "ipython",
    "version": 3
   },
   "file_extension": ".py",
   "mimetype": "text/x-python",
   "name": "python",
   "nbconvert_exporter": "python",
   "pygments_lexer": "ipython3",
   "version": "3.11.7"
  }
 },
 "nbformat": 4,
 "nbformat_minor": 5
}
