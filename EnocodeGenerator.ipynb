{
 "cells": [
  {
   "cell_type": "markdown",
   "id": "e17c1163-88d9-4b00-a70e-c345ca73904a",
   "metadata": {},
   "source": [
    "ENCODING GENERATOR"
   ]
  },
  {
   "cell_type": "code",
   "execution_count": 1,
   "id": "f0fcc2c0-fe3c-425f-b841-3aa4e511b339",
   "metadata": {},
   "outputs": [
    {
     "name": "stdout",
     "output_type": "stream",
     "text": [
      "Requirement already satisfied: opencv-python in c:\\users\\bened\\anaconda3\\lib\\site-packages (4.9.0.80)\n",
      "Requirement already satisfied: numpy>=1.21.2 in c:\\users\\bened\\anaconda3\\lib\\site-packages (from opencv-python) (1.26.4)\n",
      "Requirement already satisfied: face_recognition in c:\\users\\bened\\anaconda3\\lib\\site-packages (1.3.0)\n",
      "Requirement already satisfied: face-recognition-models>=0.3.0 in c:\\users\\bened\\anaconda3\\lib\\site-packages (from face_recognition) (0.3.0)\n",
      "Requirement already satisfied: Click>=6.0 in c:\\users\\bened\\anaconda3\\lib\\site-packages (from face_recognition) (8.1.7)\n",
      "Requirement already satisfied: dlib>=19.7 in c:\\users\\bened\\anaconda3\\lib\\site-packages (from face_recognition) (19.24.4)\n",
      "Requirement already satisfied: numpy in c:\\users\\bened\\anaconda3\\lib\\site-packages (from face_recognition) (1.26.4)\n",
      "Requirement already satisfied: Pillow in c:\\users\\bened\\anaconda3\\lib\\site-packages (from face_recognition) (10.2.0)\n",
      "Requirement already satisfied: colorama in c:\\users\\bened\\anaconda3\\lib\\site-packages (from Click>=6.0->face_recognition) (0.4.6)\n"
     ]
    }
   ],
   "source": [
    "!pip install opencv-python\n",
    "!pip install face_recognition"
   ]
  },
  {
   "cell_type": "code",
   "execution_count": 1,
   "id": "555d2152-7200-48c9-9c03-f01cf3dae030",
   "metadata": {},
   "outputs": [],
   "source": [
    "import cv2\n",
    "import face_recognition\n",
    "import pickle\n",
    "import os\n",
    "import firebase_admin\n",
    "from firebase_admin import credentials\n",
    "from firebase_admin import db\n",
    "from firebase_admin import storage"
   ]
  },
  {
   "cell_type": "code",
   "execution_count": 2,
   "id": "292d49c0-d6cc-4ee0-9b55-88cc0e6f1c8b",
   "metadata": {},
   "outputs": [
    {
     "name": "stdout",
     "output_type": "stream",
     "text": [
      "['852741.png', '8836.png', '963852.png']\n",
      "['852741', '8836', '963852']\n",
      "Encoding Started...\n",
      "Encoding Complete\n",
      "File Saved\n"
     ]
    }
   ],
   "source": [
    "cred = credentials.Certificate(\"serviceAccountKey.json\")\n",
    "firebase_admin.initialize_app(cred, {\n",
    "    'databaseURL': 'https://faceattendacerealtime-65507-default-rtdb.firebaseio.com/',\n",
    "    'storageBucket': \"faceattendacerealtime-65507.appspot.com\"\n",
    "})\n",
    "\n",
    "#importing the students images\n",
    "folderPath = 'Images'\n",
    "pathList = os.listdir(folderPath)\n",
    "print(pathList)\n",
    "\n",
    "imgList = []\n",
    "studentIds = []\n",
    "\n",
    "#print(modePathList)\n",
    "for path in pathList:\n",
    "    imgList.append(cv2.imread(os.path.join(folderPath,path)))\n",
    "    studentIds.append(os.path.splitext(path)[0])\n",
    "    \n",
    "    fileName = f'{folderPath}/{path}'\n",
    "    bucket = storage.bucket()\n",
    "    blob = bucket.blob(fileName)\n",
    "    blob.upload_from_filename(fileName)\n",
    "\n",
    "    #print(path)\n",
    "    #print(os.path.splitext(path)[0])\n",
    "\n",
    "print(studentIds)\n",
    "\n",
    "def findEncodings(imagesList):\n",
    "    encodeList = []\n",
    "    for img in imagesList:\n",
    "        img = cv2.cvtColor(img,cv2.COLOR_BGR2RGB)\n",
    "        encode = face_recognition.face_encodings(img)[0]\n",
    "        encodeList.append(encode)\n",
    "\n",
    "    \n",
    "\n",
    "    return encodeList\n",
    "print(\"Encoding Started...\")\n",
    "encodeListKnown = findEncodings(imgList)\n",
    "#print(encodeListKnown)\n",
    "encodeListKnownWithIds = [encodeListKnown,studentIds]\n",
    "print(\"Encoding Complete\")\n",
    "\n",
    "file = open(\"EncodeFile.p\", 'wb')\n",
    "pickle.dump(encodeListKnownWithIds,file)\n",
    "file.close()\n",
    "print(\"File Saved\")\n"
   ]
  },
  {
   "cell_type": "code",
   "execution_count": null,
   "id": "d605f368-9257-4c0c-89b1-ba8c77c7d311",
   "metadata": {},
   "outputs": [],
   "source": []
  },
  {
   "cell_type": "code",
   "execution_count": null,
   "id": "c4bbe1bc-aeac-4db0-9a79-036bf9c264a4",
   "metadata": {},
   "outputs": [],
   "source": []
  }
 ],
 "metadata": {
  "kernelspec": {
   "display_name": "Python 3 (ipykernel)",
   "language": "python",
   "name": "python3"
  },
  "language_info": {
   "codemirror_mode": {
    "name": "ipython",
    "version": 3
   },
   "file_extension": ".py",
   "mimetype": "text/x-python",
   "name": "python",
   "nbconvert_exporter": "python",
   "pygments_lexer": "ipython3",
   "version": "3.11.7"
  }
 },
 "nbformat": 4,
 "nbformat_minor": 5
}
